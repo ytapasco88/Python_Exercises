{
 "cells": [
  {
   "cell_type": "markdown",
   "metadata": {},
   "source": [
    "Retos de la pagina https://platzi.com/comunidad/retos-de-programacion-en-cualquier-lenguaje-primer-nivel-salida-de-mensajes/"
   ]
  },
  {
   "cell_type": "markdown",
   "metadata": {},
   "source": [
    "## Reto #1 “Hola Mundo”"
   ]
  },
  {
   "cell_type": "code",
   "execution_count": 4,
   "metadata": {},
   "outputs": [
    {
     "name": "stdout",
     "output_type": "stream",
     "text": [
      "Hola, cual es tu Nombre? Juan Andres\n",
      "Hola, Juan Andres\n"
     ]
    }
   ],
   "source": [
    "nombre = input(f'Hola, cual es tu Nombre? ')\n",
    "print(f'Hola, {nombre}')"
   ]
  },
  {
   "cell_type": "markdown",
   "metadata": {},
   "source": [
    "## Reto #2 “Hola… nombre y apellido:”"
   ]
  },
  {
   "cell_type": "code",
   "execution_count": 6,
   "metadata": {},
   "outputs": [
    {
     "name": "stdout",
     "output_type": "stream",
     "text": [
      "Hola, cual es tu Nombre? Juan Andres\n",
      "Y cual es tu Apellido? Tapasco\n",
      "Hola, Juan Andres Tapasco\n"
     ]
    }
   ],
   "source": [
    "nombre = input(f'Hola, cual es tu Nombre? ')\n",
    "apellido = input(f'Y cual es tu Apellido? ')\n",
    "print(f'Hola, {nombre} {apellido}')"
   ]
  },
  {
   "cell_type": "markdown",
   "metadata": {},
   "source": [
    "## Reto #3 “Mensaje multilínea”"
   ]
  },
  {
   "cell_type": "code",
   "execution_count": 11,
   "metadata": {},
   "outputs": [
    {
     "name": "stdout",
     "output_type": "stream",
     "text": [
      "Platzi cuenta con cursos de:\n",
      "1. Desarrollo e Ingenieria\n",
      "2. Diseño y UX\n",
      "3. Marketing\n",
      "4. Negocios y Emprendimiento\n",
      "5. Produccion Audiovisual\n",
      "6. Crecimiento Profesional\n",
      "\n"
     ]
    }
   ],
   "source": [
    "print('''Platzi cuenta con cursos de:\n",
    "1. Desarrollo e Ingenieria\n",
    "2. Diseño y UX\n",
    "3. Marketing\n",
    "4. Negocios y Emprendimiento\n",
    "5. Produccion Audiovisual\n",
    "6. Crecimiento Profesional\n",
    "''')"
   ]
  },
  {
   "cell_type": "markdown",
   "metadata": {},
   "source": [
    "## Reto #4 “Suma de enteros”"
   ]
  },
  {
   "cell_type": "code",
   "execution_count": 13,
   "metadata": {},
   "outputs": [
    {
     "name": "stdout",
     "output_type": "stream",
     "text": [
      "Ingrese numero a: 2.5633\n",
      "Ingrese numero b: 5.6883\n",
      "La suma de 2.5633 + 5.6883 es 8.25\n"
     ]
    }
   ],
   "source": [
    "num_a = float(input(\"Ingrese numero a: \"))\n",
    "num_b = float(input(\"Ingrese numero b: \"))\n",
    "\n",
    "print(f'La suma de {num_a} + {num_b} es {round((num_a + num_b),2)}')"
   ]
  },
  {
   "cell_type": "code",
   "execution_count": 1,
   "metadata": {
    "scrolled": true
   },
   "outputs": [
    {
     "name": "stdout",
     "output_type": "stream",
     "text": [
      "Ingrese numero a: 2\n",
      "Ingrese numero b: 3\n",
      "Ingrese numero c: 4\n",
      "Datos de entrada: 2.0, 3.0 y 4.0\n",
      "2.0 + 3.0 * 4.0 = 20.0\n"
     ]
    }
   ],
   "source": [
    "num_a = float(input(\"Ingrese numero a: \"))\n",
    "num_b = float(input(\"Ingrese numero b: \"))\n",
    "num_c = float(input(\"Ingrese numero c: \"))\n",
    "\n",
    "print(f'Datos de entrada: {num_a}, {num_b} y {num_c}')\n",
    "print(f'{num_a} + {num_b} * {num_c} = {round(((num_a + num_b) * num_c),2)}')"
   ]
  },
  {
   "cell_type": "markdown",
   "metadata": {},
   "source": [
    "## Reto #6 “Resta de pizzas”"
   ]
  },
  {
   "cell_type": "code",
   "execution_count": 3,
   "metadata": {},
   "outputs": [
    {
     "name": "stdout",
     "output_type": "stream",
     "text": [
      "Hola, ¿Cuantas rebanadas de pizza trajiste...? 8\n",
      "¿Y cuantas rebanadas se comieron...? 4\n",
      "Si trajiste 8 rebanadas y se comieron 4, quedan 4 rebanadas\n"
     ]
    }
   ],
   "source": [
    "pizza = int(input(\"Hola, ¿Cuantas rebanadas de pizza trajiste...? \"))\n",
    "comidas = int(input(\"¿Y cuantas rebanadas se comieron...? \"))\n",
    "print(f'Si trajiste {pizza} rebanadas de pizza y se comieron {comidas}, quedan {pizza - comidas} rebanadas')"
   ]
  },
  {
   "cell_type": "markdown",
   "metadata": {},
   "source": [
    "## Reto #7 “Edad futura y pasada”"
   ]
  },
  {
   "cell_type": "code",
   "execution_count": 18,
   "metadata": {},
   "outputs": [
    {
     "name": "stdout",
     "output_type": "stream",
     "text": [
      "Hola, ¿Como te llamas?... Juan Andres\n",
      "¿Y cuantos años tienes...? 2\n",
      "Juan Andres, el año pasado tenias 1 año(s), y el proximo año tendras 3 años\n"
     ]
    }
   ],
   "source": [
    "nombre = input(\"Hola, ¿Como te llamas?... \")\n",
    "edad = int(input(\"¿Y cuantos años tienes...? \"))\n",
    "print(f'{nombre}, el año pasado tenias {edad - 1} año(s), y el proximo año tendras {edad + 1} años')"
   ]
  },
  {
   "cell_type": "markdown",
   "metadata": {},
   "source": [
    "## Reto #8 “Divide la cuenta”"
   ]
  },
  {
   "cell_type": "code",
   "execution_count": 11,
   "metadata": {},
   "outputs": [
    {
     "name": "stdout",
     "output_type": "stream",
     "text": [
      "¿Total a pagar...? 100000\n",
      "¿Entre cuantas personas se dividira la cuenta...? 3\n",
      "¿Porcentaje de propina (Digite numero)...? 3\n",
      "******************************\n",
      "El total de la cuenta es:\n",
      "Plato:\t\t $100000\n",
      "impuesto:\t 19.0 % ($19000.0)\n",
      "propina:\t 3% ($3000.0)\n",
      "Total a pagar:\t $ 122000.0 \n",
      "\n",
      "Dividido en:\t\t 3 personas\n",
      "Total por persona:\t $33333.41\n",
      "******************************\n",
      "\n"
     ]
    }
   ],
   "source": [
    "total_plato = int(input(\"¿Total a pagar...? \"))\n",
    "personas = int(input('¿Entre cuantas personas se dividira la cuenta...? '))\n",
    "propina = int(input('¿Porcentaje de propina (Digite numero)...? '))\n",
    "impuesto = 0.19\n",
    "porc_propina = propina/100\n",
    "\n",
    "total_cuenta = print(f'''{'*'*30}\n",
    "El total de la cuenta es:\n",
    "Plato:\\t\\t ${total_plato}\n",
    "Impuesto:\\t {impuesto*100} % (${impuesto*total_plato})\n",
    "Propina:\\t {propina}% (${porc_propina*total_plato})\n",
    "Total a pagar:\\t $ {total_plato + impuesto*total_plato + porc_propina*total_plato} \n",
    "\n",
    "Dividido en:\\t\\t {personas} personas\n",
    "Total por persona:\\t ${round(((total_plato + impuesto + porc_propina)/personas),2)}\n",
    "{'*'*30}\n",
    "''')                 \n",
    "                   "
   ]
  },
  {
   "cell_type": "markdown",
   "metadata": {},
   "source": [
    "## Reto #9 “Calculando días”"
   ]
  },
  {
   "cell_type": "code",
   "execution_count": 12,
   "metadata": {},
   "outputs": [
    {
     "name": "stdout",
     "output_type": "stream",
     "text": [
      "Digite cantidad de dias... 12\n",
      " \n",
      "Dias: \t\t12\n",
      "Horas: \t\t288\n",
      "Minutos: \t17280\n",
      "Segundos: \t1036800\n",
      "\n"
     ]
    }
   ],
   "source": [
    "horas = 24\n",
    "minutos = 60\n",
    "segundos = 60\n",
    "\n",
    "dias = int(input(f'Digite cantidad de dias... '))\n",
    "print(f''' \n",
    "Dias: \\t\\t{dias}\n",
    "Horas: \\t\\t{dias*horas}\n",
    "Minutos: \\t{(dias*horas*minutos)}\n",
    "Segundos: \\t{dias*horas*minutos*segundos}\n",
    "''')\n"
   ]
  },
  {
   "cell_type": "markdown",
   "metadata": {},
   "source": [
    "## Reto #10 “Conversor de millas”"
   ]
  },
  {
   "cell_type": "code",
   "execution_count": 7,
   "metadata": {},
   "outputs": [
    {
     "name": "stdout",
     "output_type": "stream",
     "text": [
      "Digite cantidad de millas... 12\n",
      "12.0 mi (millas) equivalen a 19.312128 km (kilometros)\n"
     ]
    }
   ],
   "source": [
    "milla = 1.609344\n",
    "cantidad = float(input(f'Digite cantidad de millas... '))\n",
    "print(f'{cantidad} mi (millas) equivalen a {cantidad * milla} km (kilometros)')"
   ]
  },
  {
   "cell_type": "markdown",
   "metadata": {},
   "source": [
    "## Reto #11 “Cuantas veces un número en otro”"
   ]
  },
  {
   "cell_type": "code",
   "execution_count": 14,
   "metadata": {},
   "outputs": [
    {
     "name": "stdout",
     "output_type": "stream",
     "text": [
      "Por favor digite un numero mayor a 1000... 2000\n",
      "Por favor digite un numero menor a 100... 20\n",
      "20 cabe en 2000 100 veces\n"
     ]
    }
   ],
   "source": [
    "num_a = int(input('Por favor digite un numero mayor a 1000... '))\n",
    "num_b = int(input('Por favor digite un numero menor a 100... '))\n",
    "\n",
    "if num_a >= 1000 and num_b <= 100:\n",
    "    print(f'{num_b} cabe en {num_a} {num_a//num_b} veces')\n",
    "else:\n",
    "    print(f'No cumple(s) la(s) condicione(s) necesarias para el ejercicio')\n",
    "    "
   ]
  },
  {
   "cell_type": "code",
   "execution_count": null,
   "metadata": {},
   "outputs": [],
   "source": []
  }
 ],
 "metadata": {
  "kernelspec": {
   "display_name": "Python 3",
   "language": "python",
   "name": "python3"
  },
  "language_info": {
   "codemirror_mode": {
    "name": "ipython",
    "version": 3
   },
   "file_extension": ".py",
   "mimetype": "text/x-python",
   "name": "python",
   "nbconvert_exporter": "python",
   "pygments_lexer": "ipython3",
   "version": "3.7.6"
  }
 },
 "nbformat": 4,
 "nbformat_minor": 4
}
