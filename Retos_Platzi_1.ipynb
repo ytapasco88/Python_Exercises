{
  "nbformat": 4,
  "nbformat_minor": 0,
  "metadata": {
    "kernelspec": {
      "display_name": "Python 3",
      "language": "python",
      "name": "python3"
    },
    "language_info": {
      "codemirror_mode": {
        "name": "ipython",
        "version": 3
      },
      "file_extension": ".py",
      "mimetype": "text/x-python",
      "name": "python",
      "nbconvert_exporter": "python",
      "pygments_lexer": "ipython3",
      "version": "3.7.6"
    },
    "colab": {
      "name": "Retos_Platzi_1.ipynb",
      "provenance": [],
      "include_colab_link": true
    }
  },
  "cells": [
    {
      "cell_type": "markdown",
      "metadata": {
        "id": "view-in-github",
        "colab_type": "text"
      },
      "source": [
        "<a href=\"https://colab.research.google.com/github/ytapasco88/Python_Exercises/blob/master/Retos_Platzi_1.ipynb\" target=\"_parent\"><img src=\"https://colab.research.google.com/assets/colab-badge.svg\" alt=\"Open In Colab\"/></a>"
      ]
    },
    {
      "cell_type": "markdown",
      "metadata": {
        "id": "H4-O2U0qj8YX",
        "colab_type": "text"
      },
      "source": [
        "Retos de la pagina https://platzi.com/comunidad/retos-de-programacion-en-cualquier-lenguaje-primer-nivel-salida-de-mensajes/"
      ]
    },
    {
      "cell_type": "markdown",
      "metadata": {
        "id": "qjW_G5_8j8YZ",
        "colab_type": "text"
      },
      "source": [
        "## Reto #1 “Hola Mundo”"
      ]
    },
    {
      "cell_type": "code",
      "metadata": {
        "id": "ZViA5YfUj8Ya",
        "colab_type": "code",
        "colab": {},
        "outputId": "55c3c41c-23cc-45af-e49e-68e01762cedc"
      },
      "source": [
        "nombre = input(f'Hola, cual es tu Nombre? ')\n",
        "print(f'Hola, {nombre}')"
      ],
      "execution_count": 0,
      "outputs": [
        {
          "output_type": "stream",
          "text": [
            "Hola, cual es tu Nombre? Juan Andres\n",
            "Hola, Juan Andres\n"
          ],
          "name": "stdout"
        }
      ]
    },
    {
      "cell_type": "markdown",
      "metadata": {
        "id": "OrsLbTBAj8Yg",
        "colab_type": "text"
      },
      "source": [
        "## Reto #2 “Hola… nombre y apellido:”"
      ]
    },
    {
      "cell_type": "code",
      "metadata": {
        "id": "24p5U3mtj8Yh",
        "colab_type": "code",
        "colab": {},
        "outputId": "f079b7f1-c7c3-4d02-c495-471272e1b25f"
      },
      "source": [
        "nombre = input(f'Hola, cual es tu Nombre? ')\n",
        "apellido = input(f'Y cual es tu Apellido? ')\n",
        "print(f'Hola, {nombre} {apellido}')"
      ],
      "execution_count": 0,
      "outputs": [
        {
          "output_type": "stream",
          "text": [
            "Hola, cual es tu Nombre? Juan Andres\n",
            "Y cual es tu Apellido? Tapasco\n",
            "Hola, Juan Andres Tapasco\n"
          ],
          "name": "stdout"
        }
      ]
    },
    {
      "cell_type": "markdown",
      "metadata": {
        "id": "wB6pbRikj8Yl",
        "colab_type": "text"
      },
      "source": [
        "## Reto #3 “Mensaje multilínea”"
      ]
    },
    {
      "cell_type": "code",
      "metadata": {
        "id": "8K2gGHcLj8Ym",
        "colab_type": "code",
        "colab": {},
        "outputId": "b9d2fa9c-7d5d-4304-bad5-9417607e173b"
      },
      "source": [
        "print('''Platzi cuenta con cursos de:\n",
        "1. Desarrollo e Ingenieria\n",
        "2. Diseño y UX\n",
        "3. Marketing\n",
        "4. Negocios y Emprendimiento\n",
        "5. Produccion Audiovisual\n",
        "6. Crecimiento Profesional\n",
        "''')"
      ],
      "execution_count": 0,
      "outputs": [
        {
          "output_type": "stream",
          "text": [
            "Platzi cuenta con cursos de:\n",
            "1. Desarrollo e Ingenieria\n",
            "2. Diseño y UX\n",
            "3. Marketing\n",
            "4. Negocios y Emprendimiento\n",
            "5. Produccion Audiovisual\n",
            "6. Crecimiento Profesional\n",
            "\n"
          ],
          "name": "stdout"
        }
      ]
    },
    {
      "cell_type": "markdown",
      "metadata": {
        "id": "HOhy72nuj8Yq",
        "colab_type": "text"
      },
      "source": [
        "## Reto #4 “Suma de enteros”"
      ]
    },
    {
      "cell_type": "code",
      "metadata": {
        "id": "BITiRCibj8Ys",
        "colab_type": "code",
        "colab": {},
        "outputId": "94b40adc-40ee-42e6-c2d6-63fdc2e6ed9f"
      },
      "source": [
        "num_a = float(input(\"Ingrese numero a: \"))\n",
        "num_b = float(input(\"Ingrese numero b: \"))\n",
        "\n",
        "print(f'La suma de {num_a} + {num_b} es {round((num_a + num_b),2)}')"
      ],
      "execution_count": 0,
      "outputs": [
        {
          "output_type": "stream",
          "text": [
            "Ingrese numero a: 2.5633\n",
            "Ingrese numero b: 5.6883\n",
            "La suma de 2.5633 + 5.6883 es 8.25\n"
          ],
          "name": "stdout"
        }
      ]
    },
    {
      "cell_type": "code",
      "metadata": {
        "scrolled": true,
        "id": "So4Mm4eJj8Yw",
        "colab_type": "code",
        "colab": {},
        "outputId": "0b8ffea6-ea1a-42df-97e4-d9173ed2f229"
      },
      "source": [
        "num_a = float(input(\"Ingrese numero a: \"))\n",
        "num_b = float(input(\"Ingrese numero b: \"))\n",
        "num_c = float(input(\"Ingrese numero c: \"))\n",
        "\n",
        "print(f'Datos de entrada: {num_a}, {num_b} y {num_c}')\n",
        "print(f'{num_a} + {num_b} * {num_c} = {round(((num_a + num_b) * num_c),2)}')"
      ],
      "execution_count": 0,
      "outputs": [
        {
          "output_type": "stream",
          "text": [
            "Ingrese numero a: 2\n",
            "Ingrese numero b: 3\n",
            "Ingrese numero c: 4\n",
            "Datos de entrada: 2.0, 3.0 y 4.0\n",
            "2.0 + 3.0 * 4.0 = 20.0\n"
          ],
          "name": "stdout"
        }
      ]
    },
    {
      "cell_type": "markdown",
      "metadata": {
        "id": "TGau4e2Lj8Yz",
        "colab_type": "text"
      },
      "source": [
        "## Reto #6 “Resta de pizzas”"
      ]
    },
    {
      "cell_type": "code",
      "metadata": {
        "id": "22jYSUeoj8Y0",
        "colab_type": "code",
        "colab": {},
        "outputId": "46145c5b-0965-41a9-8c3e-94fe8ab8bf8a"
      },
      "source": [
        "pizza = int(input(\"Hola, ¿Cuantas rebanadas de pizza trajiste...? \"))\n",
        "comidas = int(input(\"¿Y cuantas rebanadas se comieron...? \"))\n",
        "print(f'Si trajiste {pizza} rebanadas de pizza y se comieron {comidas}, quedan {pizza - comidas} rebanadas')"
      ],
      "execution_count": 0,
      "outputs": [
        {
          "output_type": "stream",
          "text": [
            "Hola, ¿Cuantas rebanadas de pizza trajiste...? 8\n",
            "¿Y cuantas rebanadas se comieron...? 4\n",
            "Si trajiste 8 rebanadas y se comieron 4, quedan 4 rebanadas\n"
          ],
          "name": "stdout"
        }
      ]
    },
    {
      "cell_type": "markdown",
      "metadata": {
        "id": "cEm2Q5hmj8Y4",
        "colab_type": "text"
      },
      "source": [
        "## Reto #7 “Edad futura y pasada”"
      ]
    },
    {
      "cell_type": "code",
      "metadata": {
        "id": "dQFCBgYmj8Y6",
        "colab_type": "code",
        "colab": {},
        "outputId": "8b7bef2f-b709-45ec-e82a-0fd4fb761e11"
      },
      "source": [
        "nombre = input(\"Hola, ¿Como te llamas?... \")\n",
        "edad = int(input(\"¿Y cuantos años tienes...? \"))\n",
        "print(f'{nombre}, el año pasado tenias {edad - 1} año(s), y el proximo año tendras {edad + 1} años')"
      ],
      "execution_count": 0,
      "outputs": [
        {
          "output_type": "stream",
          "text": [
            "Hola, ¿Como te llamas?... Juan Andres\n",
            "¿Y cuantos años tienes...? 2\n",
            "Juan Andres, el año pasado tenias 1 año(s), y el proximo año tendras 3 años\n"
          ],
          "name": "stdout"
        }
      ]
    },
    {
      "cell_type": "markdown",
      "metadata": {
        "id": "zjEkxvc6j8Y-",
        "colab_type": "text"
      },
      "source": [
        "## Reto #8 “Divide la cuenta”"
      ]
    },
    {
      "cell_type": "code",
      "metadata": {
        "id": "d0rog5aqj8Y-",
        "colab_type": "code",
        "colab": {},
        "outputId": "dad5de29-82c7-4dc5-9b1d-d1688085820b"
      },
      "source": [
        "total_plato = int(input(\"¿Total a pagar...? \"))\n",
        "personas = int(input('¿Entre cuantas personas se dividira la cuenta...? '))\n",
        "propina = int(input('¿Porcentaje de propina (Digite numero)...? '))\n",
        "impuesto = 0.19\n",
        "porc_propina = propina/100\n",
        "\n",
        "total_cuenta = print(f'''{'*'*30}\n",
        "El total de la cuenta es:\n",
        "Plato:\\t\\t ${total_plato}\n",
        "Impuesto:\\t {impuesto*100} % (${impuesto*total_plato})\n",
        "Propina:\\t {propina}% (${porc_propina*total_plato})\n",
        "Total a pagar:\\t $ {total_plato + impuesto*total_plato + porc_propina*total_plato} \n",
        "\n",
        "Dividido en:\\t\\t {personas} personas\n",
        "Total por persona:\\t ${round(((total_plato + impuesto + porc_propina)/personas),2)}\n",
        "{'*'*30}\n",
        "''')                 \n",
        "                   "
      ],
      "execution_count": 0,
      "outputs": [
        {
          "output_type": "stream",
          "text": [
            "¿Total a pagar...? 100000\n",
            "¿Entre cuantas personas se dividira la cuenta...? 3\n",
            "¿Porcentaje de propina (Digite numero)...? 3\n",
            "******************************\n",
            "El total de la cuenta es:\n",
            "Plato:\t\t $100000\n",
            "impuesto:\t 19.0 % ($19000.0)\n",
            "propina:\t 3% ($3000.0)\n",
            "Total a pagar:\t $ 122000.0 \n",
            "\n",
            "Dividido en:\t\t 3 personas\n",
            "Total por persona:\t $33333.41\n",
            "******************************\n",
            "\n"
          ],
          "name": "stdout"
        }
      ]
    },
    {
      "cell_type": "markdown",
      "metadata": {
        "id": "XljPsEMvj8ZC",
        "colab_type": "text"
      },
      "source": [
        "## Reto #9 “Calculando días”"
      ]
    },
    {
      "cell_type": "code",
      "metadata": {
        "id": "q2IM1EZjj8ZC",
        "colab_type": "code",
        "colab": {},
        "outputId": "561223d3-921f-49a3-8bc8-176ccf334403"
      },
      "source": [
        "horas = 24\n",
        "minutos = 60\n",
        "segundos = 60\n",
        "\n",
        "dias = int(input(f'Digite cantidad de dias... '))\n",
        "print(f''' \n",
        "Dias: \\t\\t{dias}\n",
        "Horas: \\t\\t{dias*horas}\n",
        "Minutos: \\t{(dias*horas*minutos)}\n",
        "Segundos: \\t{dias*horas*minutos*segundos}\n",
        "''')\n"
      ],
      "execution_count": 0,
      "outputs": [
        {
          "output_type": "stream",
          "text": [
            "Digite cantidad de dias... 12\n",
            " \n",
            "Dias: \t\t12\n",
            "Horas: \t\t288\n",
            "Minutos: \t17280\n",
            "Segundos: \t1036800\n",
            "\n"
          ],
          "name": "stdout"
        }
      ]
    },
    {
      "cell_type": "markdown",
      "metadata": {
        "id": "Tyo_pLtej8ZG",
        "colab_type": "text"
      },
      "source": [
        "## Reto #10 “Conversor de millas”"
      ]
    },
    {
      "cell_type": "code",
      "metadata": {
        "id": "X2LUukKBj8ZG",
        "colab_type": "code",
        "colab": {},
        "outputId": "7e2c94fb-12ff-436c-d990-b87d424605e3"
      },
      "source": [
        "milla = 1.609344\n",
        "cantidad = float(input(f'Digite cantidad de millas... '))\n",
        "print(f'{cantidad} mi (millas) equivalen a {cantidad * milla} km (kilometros)')"
      ],
      "execution_count": 0,
      "outputs": [
        {
          "output_type": "stream",
          "text": [
            "Digite cantidad de millas... 12\n",
            "12.0 mi (millas) equivalen a 19.312128 km (kilometros)\n"
          ],
          "name": "stdout"
        }
      ]
    },
    {
      "cell_type": "markdown",
      "metadata": {
        "id": "cXXfduxbj8ZO",
        "colab_type": "text"
      },
      "source": [
        "## Reto #11 “Cuantas veces un número en otro”"
      ]
    },
    {
      "cell_type": "code",
      "metadata": {
        "id": "hrLnqj1Zj8ZP",
        "colab_type": "code",
        "colab": {},
        "outputId": "d0524684-5e2a-4c65-953b-f9017495cbcc"
      },
      "source": [
        "num_a = int(input('Por favor digite un numero mayor a 1000... '))\n",
        "num_b = int(input('Por favor digite un numero menor a 100... '))\n",
        "\n",
        "if num_a >= 1000 and num_b <= 100:\n",
        "    print(f'{num_b} cabe en {num_a} {num_a//num_b} veces')\n",
        "else:\n",
        "    print(f'No cumple(s) la(s) condicione(s) necesarias para el ejercicio')\n",
        "    "
      ],
      "execution_count": 0,
      "outputs": [
        {
          "output_type": "stream",
          "text": [
            "Por favor digite un numero mayor a 1000... 2000\n",
            "Por favor digite un numero menor a 100... 20\n",
            "20 cabe en 2000 100 veces\n"
          ],
          "name": "stdout"
        }
      ]
    },
    {
      "cell_type": "code",
      "metadata": {
        "id": "uYJEYS99j8ZT",
        "colab_type": "code",
        "colab": {}
      },
      "source": [
        ""
      ],
      "execution_count": 0,
      "outputs": []
    }
  ]
}