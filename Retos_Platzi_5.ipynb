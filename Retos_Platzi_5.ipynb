{
 "cells": [
  {
   "cell_type": "markdown",
   "metadata": {},
   "source": [
    "Tomado de https://platzi.com/comunidad/retos-de-programacion-en-cualquier-lenguaje-quinto-nivel-ciclo-for/"
   ]
  },
  {
   "cell_type": "markdown",
   "metadata": {},
   "source": [
    "### Reto #1 - Curso favorito"
   ]
  },
  {
   "cell_type": "code",
   "execution_count": 1,
   "metadata": {},
   "outputs": [
    {
     "name": "stdout",
     "output_type": "stream",
     "text": [
      "Hola, ¿Cual es tu curso favorito...? Curso de Python\n",
      "Curso de Python\n",
      "Curso de Python\n",
      "Curso de Python\n",
      "Curso de Python\n",
      "Curso de Python\n",
      "Curso de Python\n",
      "Curso de Python\n",
      "Curso de Python\n",
      "\n",
      "¿Por qué 8 veces? Porque este año Platzi cumplió 8 años ;)\n",
      "\n"
     ]
    }
   ],
   "source": [
    "curso = input(f'Hola, ¿Cual es tu curso favorito...? ')\n",
    "for i in range(8):\n",
    "    print(curso)\n",
    "print(f'''\n",
    "¿Por qué 8 veces? Porque este año Platzi cumplió 8 años ;)\n",
    "''')"
   ]
  },
  {
   "cell_type": "markdown",
   "metadata": {},
   "source": [
    "### Reto #2 - Curso favorito ‘n’ veces"
   ]
  },
  {
   "cell_type": "code",
   "execution_count": 2,
   "metadata": {},
   "outputs": [
    {
     "name": "stdout",
     "output_type": "stream",
     "text": [
      "Hola, ¿Cual es tu curso favorito...? Curso de Python\n",
      "¿Cuantas veces quieres que se imprima...? 5\n",
      "Curso de Python\n",
      "Curso de Python\n",
      "Curso de Python\n",
      "Curso de Python\n",
      "Curso de Python\n",
      "\n",
      "¿Cuantas veces se imprimio?: 5 veces\n",
      "\n"
     ]
    }
   ],
   "source": [
    "curso = input(f'Hola, ¿Cual es tu curso favorito...? ')\n",
    "veces = int(input(f'¿Cuantas veces quieres que se imprima...? '))\n",
    "for i in range(veces):\n",
    "    print(curso)\n",
    "print(f'''\n",
    "¿Cuantas veces se imprimio?: {veces} veces\n",
    "''')\n"
   ]
  },
  {
   "cell_type": "markdown",
   "metadata": {},
   "source": [
    "### Reto #3 - Curso en una columna"
   ]
  },
  {
   "cell_type": "code",
   "execution_count": 3,
   "metadata": {},
   "outputs": [
    {
     "name": "stdout",
     "output_type": "stream",
     "text": [
      "Hola, ¿Cual es tu curso favorito...? Curso de Python\n",
      "C\n",
      "u\n",
      "r\n",
      "s\n",
      "o\n",
      " \n",
      "d\n",
      "e\n",
      " \n",
      "P\n",
      "y\n",
      "t\n",
      "h\n",
      "o\n",
      "n\n"
     ]
    }
   ],
   "source": [
    "curso = input(f'Hola, ¿Cual es tu curso favorito...? ')\n",
    "for i in curso:\n",
    "    print(i)"
   ]
  },
  {
   "cell_type": "markdown",
   "metadata": {},
   "source": [
    "### Reto #4 - Animal en columna ‘n’ veces."
   ]
  },
  {
   "cell_type": "code",
   "execution_count": 4,
   "metadata": {},
   "outputs": [
    {
     "name": "stdout",
     "output_type": "stream",
     "text": [
      "Hola, ¿Cual es tu animal favorito...? Leon\n",
      "¿Cuantas veces quieres que se imprima...? 5\n",
      "==========\n",
      "L\n",
      "e\n",
      "o\n",
      "n\n",
      "==========\n",
      "L\n",
      "e\n",
      "o\n",
      "n\n",
      "==========\n",
      "L\n",
      "e\n",
      "o\n",
      "n\n",
      "==========\n",
      "L\n",
      "e\n",
      "o\n",
      "n\n",
      "==========\n",
      "L\n",
      "e\n",
      "o\n",
      "n\n",
      "\n",
      "Se imprimio Leon 5 veces\n",
      "\n"
     ]
    }
   ],
   "source": [
    "animal = input(f'Hola, ¿Cual es tu animal favorito...? ')\n",
    "veces = int(input(f'¿Cuantas veces quieres que se imprima...? '))\n",
    "for i in range(veces):\n",
    "    print('='*10)\n",
    "    for j in animal:\n",
    "        print(j)\n",
    "print(f'''\n",
    "Se imprimio {animal} {veces} veces\n",
    "''')       \n",
    "    "
   ]
  },
  {
   "cell_type": "markdown",
   "metadata": {},
   "source": [
    "### Reto #5 - Tabla de multiplicar"
   ]
  },
  {
   "cell_type": "code",
   "execution_count": 5,
   "metadata": {},
   "outputs": [
    {
     "name": "stdout",
     "output_type": "stream",
     "text": [
      "Ingrese un numero: 10\n",
      "====================\n",
      "Tabla del 10\n",
      "====================\n",
      "10 * 0 = 0\n",
      "10 * 1 = 10\n",
      "10 * 2 = 20\n",
      "10 * 3 = 30\n",
      "10 * 4 = 40\n",
      "10 * 5 = 50\n",
      "10 * 6 = 60\n",
      "10 * 7 = 70\n",
      "10 * 8 = 80\n",
      "10 * 9 = 90\n",
      "10 * 10 = 100\n"
     ]
    }
   ],
   "source": [
    "numero = int(input(f'Ingrese un numero: '))\n",
    "print('='*20)\n",
    "print(f'Tabla del {numero}')\n",
    "print('='*20)\n",
    "\n",
    "for i in range(11):\n",
    "    print(f'{numero} * {i} = {numero * (i)}')\n"
   ]
  },
  {
   "cell_type": "markdown",
   "metadata": {},
   "source": [
    "### Reto # 6 - Cuenta regresiva"
   ]
  },
  {
   "cell_type": "code",
   "execution_count": 6,
   "metadata": {},
   "outputs": [
    {
     "name": "stdout",
     "output_type": "stream",
     "text": [
      "Ingrese un numero: -10\n",
      "-10\n",
      "-9\n",
      "-8\n",
      "-7\n",
      "-6\n",
      "-5\n",
      "-4\n",
      "-3\n",
      "-2\n",
      "-1\n",
      "0\n"
     ]
    }
   ],
   "source": [
    "numero = int(input(f'Ingrese un numero: '))\n",
    "\n",
    "if numero > 0:\n",
    "    for i in range(numero+1):\n",
    "        print(numero - i)\n",
    "elif numero < 0:\n",
    "    for i in range(abs(numero)+1):\n",
    "        print(numero + i)\n",
    "else:\n",
    "    print(f'Numero es igual a 0')\n"
   ]
  },
  {
   "cell_type": "markdown",
   "metadata": {},
   "source": [
    "### Reto #7 - Curso favorito, sin exagerar"
   ]
  },
  {
   "cell_type": "code",
   "execution_count": 7,
   "metadata": {},
   "outputs": [
    {
     "name": "stdout",
     "output_type": "stream",
     "text": [
      "Hola, ¿Cual es tu curso favorito...? Curso de Python\n",
      "¿Cuantas veces quieres que se imprima...? 100\n",
      "Curso de Python\n",
      "Curso de Python\n",
      "Curso de Python\n",
      "Solo se imprime 3 veces porque 100 es un numero muy grande\n"
     ]
    }
   ],
   "source": [
    "curso = input(f'Hola, ¿Cual es tu curso favorito...? ')\n",
    "veces = int(input(f'¿Cuantas veces quieres que se imprima...? '))\n",
    "\n",
    "if veces > 15:\n",
    "    for i in range(3):\n",
    "        print(curso)\n",
    "    print(f'Solo se imprime 3 veces porque {veces} es un numero muy grande')\n",
    "else:\n",
    "    for i in range(veces):\n",
    "        print(curso)\n",
    "    print(f'''\n",
    "    ¿Cuantas veces se imprimio?: {veces} veces\n",
    "    ''')\n"
   ]
  },
  {
   "cell_type": "markdown",
   "metadata": {},
   "source": [
    "### Reto #8 - Suma autorizada"
   ]
  },
  {
   "cell_type": "code",
   "execution_count": 8,
   "metadata": {},
   "outputs": [
    {
     "name": "stdout",
     "output_type": "stream",
     "text": [
      "Ingrese numero 1: 15\n",
      "Ingrese numero 2: 45\n",
      "Ingrese numero 3: 75\n",
      "Ingrese numero 4: 105\n",
      "Lista de numeros: [15, 45, 75, 105]\n",
      "Digite 1 si quieres sumarlos todos o 0 si quieres especificar los numeros 0\n",
      "******************************\n",
      "SUMA DE CIERTOS NUMEROS DE LA LISTA\n",
      "******************************\n",
      "Cuantos numeros quieres sumar? 3\n",
      "Escoja un numero que esta dentro de {lista} 45\n",
      "Escoja un numero que esta dentro de {lista} 75\n",
      "Escoja un numero que esta dentro de {lista} 15\n",
      "La suma total de [45, 75, 15] es igual a 135. Se sumaron 3 numeros\n"
     ]
    }
   ],
   "source": [
    "lista = []\n",
    "for i in range(4):\n",
    "    numero = int(input(f'Ingrese numero {i+1}: '))\n",
    "    lista.append(numero)\n",
    "print(f'Lista de numeros: {lista}')\n",
    "pregunta = int(input(f'Digite 1 si quieres sumarlos todos o 0 si quieres especificar los numeros '))\n",
    "if pregunta == 1:\n",
    "    print('*'*30)\n",
    "    print(f'SUMA TOTAL DE LA LISTA')\n",
    "    print('*'*30)\n",
    "    print(f'La suma total de {lista} es igual a {sum(lista)}')    \n",
    "elif pregunta == 0:\n",
    "    print('*'*30)\n",
    "    print(f'SUMA DE CIERTOS NUMEROS DE LA LISTA')\n",
    "    print('*'*30)\n",
    "    lista_reducida = []\n",
    "    cantidad = int(input(f'Cuantos numeros quieres sumar? '))\n",
    "    \n",
    "    if cantidad < len(lista):\n",
    "        for i in range(cantidad):\n",
    "            num = int(input('Escoja un numero que esta dentro de {lista} '))\n",
    "            if num in lista:\n",
    "                lista_reducida.append(num)            \n",
    "            else:\n",
    "                print(f'Numero {num} no esta en la lista!!!!')\n",
    "    else:\n",
    "        print(f'La cantidad de numeros registrada esta por encima del numero de la lista')\n",
    "    print(f'La suma total de {lista_reducida} es igual a {sum(lista_reducida)}. Se sumaron {len(lista_reducida)} numeros')     \n",
    "else:\n",
    "    print(f'Opcion no valida!!!')"
   ]
  },
  {
   "cell_type": "markdown",
   "metadata": {},
   "source": [
    "### Reto #9 - Recta numérica"
   ]
  },
  {
   "cell_type": "code",
   "execution_count": 10,
   "metadata": {},
   "outputs": [
    {
     "name": "stdout",
     "output_type": "stream",
     "text": [
      "Digite 0 si quieres la recta numerica negativa o 1 si quieres la recta positiva 0\n",
      "Ingrese Limite Negativo: -80\n",
      "-80 -79 -78 -77 -76 -75 -74 -73 -72 -71 -70 -69 -68 -67 -66 -65 -64 -63 -62 -61 -60 -59 -58 -57 -56 -55 -54 -53 -52 -51 -50 -49 -48 -47 -46 -45 -44 -43 -42 -41 -40 -39 -38 -37 -36 -35 -34 -33 -32 -31 -30 -29 -28 -27 -26 -25 -24 -23 -22 -21 -20 -19 -18 -17 -16 -15 -14 -13 -12 -11 -10 -9 -8 -7 -6 -5 -4 -3 -2 -1 0 "
     ]
    }
   ],
   "source": [
    "pregunta = int(input(f'Digite 0 si quieres la recta numerica negativa o 1 si quieres la recta positiva '))\n",
    "\n",
    "if pregunta == 0:\n",
    "    lim = int(input(f'Ingrese Limite Negativo: '))\n",
    "    if lim > 0:\n",
    "        print(f'Error: Selecciono opcion para recta negativa y registro un numero positivo')\n",
    "    else:\n",
    "        for i in range(abs(lim)+1):\n",
    "            print(lim + i, end=\" \")        \n",
    "\n",
    "elif pregunta == 1:\n",
    "    lim = int(input(f'Ingrese Limite Positivo: '))\n",
    "    if lim < 0:\n",
    "        print(f'Error: Selecciono opcion para recta positiva y registro un numero negativo')\n",
    "    else:\n",
    "        for i in range(abs(lim)+1):\n",
    "            print(i, end=\" \")      \n",
    "else:\n",
    "    print(f'Opcion no valida!!!')\n",
    "\n"
   ]
  },
  {
   "cell_type": "code",
   "execution_count": null,
   "metadata": {},
   "outputs": [],
   "source": []
  }
 ],
 "metadata": {
  "kernelspec": {
   "display_name": "Python 3",
   "language": "python",
   "name": "python3"
  },
  "language_info": {
   "codemirror_mode": {
    "name": "ipython",
    "version": 3
   },
   "file_extension": ".py",
   "mimetype": "text/x-python",
   "name": "python",
   "nbconvert_exporter": "python",
   "pygments_lexer": "ipython3",
   "version": "3.7.6"
  }
 },
 "nbformat": 4,
 "nbformat_minor": 4
}
