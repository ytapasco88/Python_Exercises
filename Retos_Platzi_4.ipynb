{
 "cells": [
  {
   "cell_type": "markdown",
   "metadata": {},
   "source": [
    "\n",
    "Tomado de https://platzi.com/comunidad/retos-de-programacion-en-cualquier-lenguaje-cuarto-nivel-matematicas/"
   ]
  },
  {
   "cell_type": "markdown",
   "metadata": {},
   "source": [
    "## Reto #1 - Multiplicar decimales"
   ]
  },
  {
   "cell_type": "code",
   "execution_count": 1,
   "metadata": {},
   "outputs": [
    {
     "name": "stdout",
     "output_type": "stream",
     "text": [
      "Ingrese primer numero con decimales (cuantos mas....mejor).... 3.154545\n",
      "Ingrese segundo numero con decimales (cuantos mas....mejor).... 445.456454545\n",
      "La multiplicacion entre 3.154545 y 445.456454545 es 1405.212431402657\n"
     ]
    }
   ],
   "source": [
    "num_a = float(input(\"Ingrese primer numero con decimales (cuantos mas....mejor).... \"))\n",
    "num_b = float(input(\"Ingrese segundo numero con decimales (cuantos mas....mejor).... \"))\n",
    "\n",
    "print(f'La multiplicacion entre {num_a} y {num_b} es {num_a * num_b}')"
   ]
  },
  {
   "cell_type": "markdown",
   "metadata": {},
   "source": [
    "## Reto #2 - Reducir los decimales"
   ]
  },
  {
   "cell_type": "code",
   "execution_count": 8,
   "metadata": {},
   "outputs": [
    {
     "name": "stdout",
     "output_type": "stream",
     "text": [
      "Ingrese primer numero con decimales (cuantos mas....mejor).... 3.154545\n",
      "Ingrese segundo numero con decimales (cuantos mas....mejor).... 445.456454545\n",
      "A cuantas cifras decimales se reducen? 3\n",
      "La multiplicacion entre 3.154545 y 445.456454545 es 1405.212431402657\n",
      "Redondeado a 3 cifras da 1405.212\n"
     ]
    }
   ],
   "source": [
    "num_a = float(input(\"Ingrese primer numero con decimales (cuantos mas....mejor).... \"))\n",
    "num_b = float(input(\"Ingrese segundo numero con decimales (cuantos mas....mejor).... \"))\n",
    "redondeo = int(input(f'A cuantas cifras decimales se reducen? '))\n",
    "\n",
    "print(f'La multiplicacion entre {num_a} y {num_b} es {num_a * num_b}')\n",
    "print(f'Redondeado a {redondeo} cifras da {round(num_a * num_b,redondeo)}')"
   ]
  },
  {
   "cell_type": "markdown",
   "metadata": {},
   "source": [
    "## Reto #3 - Raíces cuadradas redondeadas"
   ]
  },
  {
   "cell_type": "code",
   "execution_count": 11,
   "metadata": {},
   "outputs": [
    {
     "name": "stdout",
     "output_type": "stream",
     "text": [
      "Ingrese un número, cuyo valor debe ser mayor a 20.... 15345\n",
      "La raiz cuadrada de 15345 es 123.87 (redondeo a 2 cifras)\n",
      "La raiz cuadrada de 15345 es 123.875 (redondeo a 3 cifras)\n"
     ]
    }
   ],
   "source": [
    "import numpy as np\n",
    "num_a = int(input(\"Ingrese un número, cuyo valor debe ser mayor a 20.... \"))\n",
    "\n",
    "if num_a > 20:\n",
    "    print(f'La raiz cuadrada de {num_a} es {round(np.sqrt(num_a),2)} (redondeo a 2 cifras)')\n",
    "    print(f'La raiz cuadrada de {num_a} es {round(np.sqrt(num_a),3)} (redondeo a 3 cifras)')\n",
    "    \n",
    "else:\n",
    "    print(f'El numero se encuentra por fuera del rango solicitado')\n"
   ]
  },
  {
   "cell_type": "markdown",
   "metadata": {},
   "source": [
    "## Reto #4 - Calcular área de un círculo\n",
    "\n",
    "$$A_{circulo} = \\frac{l*r}{2} = \\pi * {r}^2 = \\frac{\\pi*d^{2}}{4}$$\n"
   ]
  },
  {
   "cell_type": "code",
   "execution_count": 13,
   "metadata": {},
   "outputs": [
    {
     "name": "stdout",
     "output_type": "stream",
     "text": [
      "Ingrese el valor del radio del circulo 5\n",
      "El area del circulo de radio r = 5 es igual a 78.53981633974483\n"
     ]
    }
   ],
   "source": [
    "import numpy as np\n",
    "radio = int(input(f'Ingrese el valor del radio del circulo '))\n",
    "\n",
    "print(f'El area del circulo de radio r = {radio} es igual a {np.pi*radio**2}')\n"
   ]
  },
  {
   "cell_type": "markdown",
   "metadata": {},
   "source": [
    "## Reto #5 - Calcular volumen de un cilindro\n",
    "\n",
    "$$V_{cilindro} = \\pi * {r}^2 * h$$\n"
   ]
  },
  {
   "cell_type": "code",
   "execution_count": 22,
   "metadata": {},
   "outputs": [
    {
     "name": "stdout",
     "output_type": "stream",
     "text": [
      "Ingrese el valor del radio del cilindro 5\n",
      "Ingrese el valor de la profundidad del cilindro? 8\n",
      "\n",
      "El volumen del cilindro de radio r = 5 y profundidad h = 8 es igual a 628.3\n",
      "\n"
     ]
    }
   ],
   "source": [
    "import numpy as np\n",
    "radio = int(input(f'Ingrese el valor del radio del cilindro '))\n",
    "profundidad = int(input(f'Ingrese el valor de la profundidad del cilindro? '))\n",
    "\n",
    "print(f'''\n",
    "El volumen del cilindro de radio r = {radio} y profundidad h = {profundidad} es igual a {round(np.pi*radio**2*profundidad,1)}\n",
    "''')\n"
   ]
  },
  {
   "cell_type": "markdown",
   "metadata": {},
   "source": [
    "## Reto #6 - Mostrar enteros y residuos"
   ]
  },
  {
   "cell_type": "code",
   "execution_count": 21,
   "metadata": {},
   "outputs": [
    {
     "name": "stdout",
     "output_type": "stream",
     "text": [
      "Ingrese primer numero.... 9\n",
      "Ingrese segundo numero.... 2\n",
      "9 dividido entre 2 es 4 y sobra 1\n"
     ]
    }
   ],
   "source": [
    "num_a = int(input(\"Ingrese primer numero.... \"))\n",
    "num_b = int(input(\"Ingrese segundo numero.... \"))\n",
    "\n",
    "print(f'{num_a} dividido entre {num_b} es {num_a // num_b} y sobra {num_a % num_b}')"
   ]
  },
  {
   "cell_type": "markdown",
   "metadata": {},
   "source": [
    "## Reto #7 - Calcular perímetros y áreas\n",
    "\n",
    "$$A_{Triangulo} = \\frac{base*altura}{2}$$\n",
    "$$A_{Cuadrado} = lado*lado$$\n",
    "$$A_{Rectangulo} = base*altura$$\n",
    "$$A_{Circulo} = \\pi * {(radio)}^2$$"
   ]
  },
  {
   "cell_type": "code",
   "execution_count": 35,
   "metadata": {},
   "outputs": [
    {
     "name": "stdout",
     "output_type": "stream",
     "text": [
      "**************************************************\n",
      "\tArea de Figuras Geometricas\n",
      "**************************************************\n",
      "\n",
      "Escoga una opcion:\n",
      "[1]: Triangulo\n",
      "[2]: Cuadrado\n",
      "[3]: Rectangulo\n",
      "[4]: Circulo\n",
      "3\n",
      "Valor de la base? 20\n",
      "Valor de la altura? 30\n",
      "El area del rectangulo para una base = 20 y una altura = 30 es 600\n"
     ]
    }
   ],
   "source": [
    "print(\"*\"*50)\n",
    "print(f'\\tArea de Figuras Geometricas')\n",
    "print(\"*\"*50)\n",
    "\n",
    "opcion = int(input(f'''\n",
    "Escoga una opcion:\n",
    "[1]: Triangulo\n",
    "[2]: Cuadrado\n",
    "[3]: Rectangulo\n",
    "[4]: Circulo\n",
    "'''))\n",
    "\n",
    "if opcion == 1:\n",
    "    base = int(input(f'Valor de la base? '))\n",
    "    altura = int(input(f'Valor de la altura? '))\n",
    "    print(f'El area del triangulo para una base = {base} y una altura = {altura} es {(base*altura)/2}')    \n",
    "elif opcion == 2:\n",
    "    lado = int(input(f'Valor de lado? '))\n",
    "    print(f'El area del cuadrado para una lado = {lado} es {(lado * lado)}')\n",
    "elif opcion == 3:\n",
    "    base = int(input(f'Valor de la base? '))\n",
    "    altura = int(input(f'Valor de la altura? '))\n",
    "    print(f'El area del rectangulo para una base = {base} y una altura = {altura} es {(base*altura)}')     \n",
    "elif opcion == 4:\n",
    "    radio = int(input(f'Ingrese el valor del radio del circulo '))\n",
    "    print(f'El area del circulo de radio r = {radio} es igual a {np.pi*radio**2}')\n",
    "    \n",
    "else:\n",
    "    print(f'Opcion no valida!!!')"
   ]
  },
  {
   "cell_type": "code",
   "execution_count": null,
   "metadata": {},
   "outputs": [],
   "source": []
  }
 ],
 "metadata": {
  "kernelspec": {
   "display_name": "Python 3",
   "language": "python",
   "name": "python3"
  },
  "language_info": {
   "codemirror_mode": {
    "name": "ipython",
    "version": 3
   },
   "file_extension": ".py",
   "mimetype": "text/x-python",
   "name": "python",
   "nbconvert_exporter": "python",
   "pygments_lexer": "ipython3",
   "version": "3.7.6"
  }
 },
 "nbformat": 4,
 "nbformat_minor": 4
}
