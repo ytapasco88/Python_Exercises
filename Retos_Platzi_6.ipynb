{
 "cells": [
  {
   "cell_type": "markdown",
   "metadata": {},
   "source": [
    "Tomado de https://platzi.com/comunidad/retos-de-programacion-en-cualquier-lenguaje-sexto-nivel-ciclo-while-2/"
   ]
  },
  {
   "cell_type": "markdown",
   "metadata": {},
   "source": [
    "### Reto #1 - Suma hasta cincuenta"
   ]
  },
  {
   "cell_type": "code",
   "execution_count": 13,
   "metadata": {
    "scrolled": true
   },
   "outputs": [
    {
     "name": "stdout",
     "output_type": "stream",
     "text": [
      "Ingrese un numero 1\n",
      "Ingrese un numero 2\n",
      "Ingrese un numero 10\n",
      "Ingrese un numero 30\n",
      "Ingrese un numero 20\n",
      "63 es mayor que 50\n"
     ]
    }
   ],
   "source": [
    "total = 0\n",
    "while total <= 50:\n",
    "    numero = int(input('Ingrese un numero '))\n",
    "    total += numero\n",
    "print('{} es mayor que 50'.format(total))"
   ]
  },
  {
   "cell_type": "markdown",
   "metadata": {},
   "source": [
    "### Reto #2 - Más allá del cuarenta y dos"
   ]
  },
  {
   "cell_type": "code",
   "execution_count": 14,
   "metadata": {},
   "outputs": [
    {
     "name": "stdout",
     "output_type": "stream",
     "text": [
      "Ingrese un numero 3\n",
      "Ingrese un numero 4\n",
      "Ingrese un numero 10\n",
      "Ingrese un numero 15\n",
      "Ingrese un numero 42\n",
      "Ingrese un numero 43\n",
      "43 es mayor que 42\n"
     ]
    }
   ],
   "source": [
    "numero = 0\n",
    "while numero <= 42:\n",
    "    numero = int(input('Ingrese un numero '))\n",
    "    \n",
    "print('{} es mayor que 42'.format(numero))"
   ]
  },
  {
   "cell_type": "markdown",
   "metadata": {},
   "source": [
    "### Reto #3 - Sumas consecutivas"
   ]
  },
  {
   "cell_type": "code",
   "execution_count": 19,
   "metadata": {},
   "outputs": [
    {
     "name": "stdout",
     "output_type": "stream",
     "text": [
      "Ingrese primer numero: 5\n",
      "Ingrese segundo numero: 4\n",
      "Desea agregar otro numero? (Escriba S o N) s\n",
      "Ingrese otro numero: 3\n",
      "Desea agregar otro numero? (Escriba S o N) s\n",
      "Ingrese otro numero: 2\n",
      "Desea agregar otro numero? (Escriba S o N) n\n",
      "Numeros: [5, 4, 3, 2]\n",
      "La suma de todos los numeros es 14\n"
     ]
    }
   ],
   "source": [
    "num_a = int(input(\"Ingrese primer numero: \"))\n",
    "num_b = int(input(\"Ingrese segundo numero: \"))\n",
    "numeros = [num_a,num_b]\n",
    "acepta = True\n",
    "\n",
    "while acepta == True:\n",
    "    adiciona = input(\"Desea agregar otro numero? (Escriba S o N) \")\n",
    "    if adiciona == 'S' or adiciona == 's':\n",
    "        num = int(input(\"Ingrese otro numero: \"))\n",
    "        numeros.append(num)\n",
    "        acepta = True\n",
    "    elif adiciona == 'N' or adiciona == 'n':\n",
    "        print('Numeros: {}'.format(numeros))\n",
    "        print(\"La suma de todos los numeros es {}\".format(sum(numeros)))\n",
    "        break\n",
    "    else:\n",
    "        print(\"Opcion no valida!!!\")\n",
    "        break"
   ]
  },
  {
   "cell_type": "markdown",
   "metadata": {},
   "source": [
    "### Reto #4 - Lista de invitados"
   ]
  },
  {
   "cell_type": "code",
   "execution_count": 25,
   "metadata": {},
   "outputs": [
    {
     "name": "stdout",
     "output_type": "stream",
     "text": [
      "Ingrese Nombre de Invitado Juan\n",
      "Desea agregar otro Invitado? (Escriba S o N) s\n",
      "Ingrese Nombre de Invitado Gladys\n",
      "Desea agregar otro Invitado? (Escriba S o N) s\n",
      "Ingrese Nombre de Invitado Aracelly\n",
      "Desea agregar otro Invitado? (Escriba S o N) s\n",
      "Ingrese Nombre de Invitado Yeison\n",
      "Desea agregar otro Invitado? (Escriba S o N) N\n",
      "Invitados: ['Juan', 'Gladys', 'Aracelly', 'Yeison']\n",
      "La cantidad total de invitados es 4\n"
     ]
    }
   ],
   "source": [
    "contador = 0\n",
    "acepta = True\n",
    "lista = []\n",
    "\n",
    "while acepta == True:\n",
    "    invitado = input(\"Ingrese Nombre de Invitado \")\n",
    "    lista.append(invitado)\n",
    "    adiciona = input(\"Desea agregar otro Invitado? (Escriba S o N) \")\n",
    "    if adiciona == 'S' or adiciona == 's':\n",
    "        acepta = True\n",
    "    elif adiciona == 'N' or adiciona == 'n':\n",
    "        print('Invitados: {}'.format(lista))\n",
    "        print(\"La cantidad total de invitados es {}\".format(len(lista)))\n",
    "        break\n",
    "    else:\n",
    "        print(\"Opcion no valida!!!\")\n",
    "        break    \n"
   ]
  },
  {
   "cell_type": "markdown",
   "metadata": {},
   "source": [
    "### Reto #5 - Adivina el número secreto"
   ]
  },
  {
   "cell_type": "code",
   "execution_count": 31,
   "metadata": {},
   "outputs": [
    {
     "name": "stdout",
     "output_type": "stream",
     "text": [
      "Cual es el numero secreto? 50\n",
      "El numero secreto es mayor que 50!!!!\n",
      "Cual es el numero secreto? 60\n",
      "El numero secreto es mayor que 60!!!!\n",
      "Cual es el numero secreto? 70\n",
      "El numero secreto es mayor que 70!!!!\n",
      "Cual es el numero secreto? 80\n",
      "El numero secreto es mayor que 80!!!!\n",
      "Cual es el numero secreto? 90\n",
      "El numero secreto es menor que 90!!!!\n",
      "Cual es el numero secreto? 95\n",
      "El numero secreto es menor que 95!!!!\n",
      "Cual es el numero secreto? 85\n",
      "El numero secreto es menor que 85!!!!\n",
      "Cual es el numero secreto? 84\n",
      "El numero secreto es menor que 84!!!!\n",
      "Cual es el numero secreto? 82\n",
      "El numero secreto es menor que 82!!!!\n",
      "Cual es el numero secreto? 81\n",
      "Acertaste!!!!\n",
      "Numero de Intentos: 10\n"
     ]
    }
   ],
   "source": [
    "import random\n",
    "numero_secreto = random.randint(1, 100)\n",
    "intentos = 0\n",
    "\n",
    "while True:\n",
    "    numero = int(input('Cual es el numero secreto? '))\n",
    "    intentos += 1\n",
    "    if numero == numero_secreto:\n",
    "        print(\"Acertaste!!!!\")\n",
    "        print(\"Numero de Intentos: {}\".format(intentos))\n",
    "        break\n",
    "    else:\n",
    "        if numero_secreto > numero:\n",
    "            print(\"El numero secreto es mayor que {}!!!!\".format(numero))\n",
    "        else:\n",
    "            print(\"El numero secreto es menor que {}!!!!\".format(numero))    "
   ]
  },
  {
   "cell_type": "markdown",
   "metadata": {},
   "source": [
    "### Reto #6 - “Un elefante se balanceaba…”"
   ]
  },
  {
   "cell_type": "code",
   "execution_count": 33,
   "metadata": {},
   "outputs": [
    {
     "name": "stdout",
     "output_type": "stream",
     "text": [
      "\n",
      "1 elefante se balanceaba\n",
      "sobre la tela de una araña\n",
      "como veia que resistia\n",
      "fue a llamar a otro elefante\n",
      "\n",
      "¿Cuantos elefantes mas se balancearan? 2\n",
      "\n",
      "        2 elefantes se balanceaban\n",
      "        sobre la tela de una araña\n",
      "        como veian que resistia\n",
      "        fueron a llamar a otro elefante\n",
      "        \n",
      "¿Cuantos elefantes mas se balancearan? 3\n",
      "\n",
      "        3 elefantes se balanceaban\n",
      "        sobre la tela de una araña\n",
      "        como veian que resistia\n",
      "        fueron a llamar a otro elefante\n",
      "        \n",
      "¿Cuantos elefantes mas se balancearan? 4\n",
      "\n",
      "        4 elefantes se balanceaban\n",
      "        sobre la tela de una araña\n",
      "        como veian que resistia\n",
      "        fueron a llamar a otro elefante\n",
      "        \n",
      "¿Cuantos elefantes mas se balancearan? 5\n",
      "\n",
      "        5 elefantes se balanceaban\n",
      "        sobre la tela de una araña\n",
      "        como veian que resistia\n",
      "        fueron a llamar a otro elefante\n",
      "        \n",
      "¿Cuantos elefantes mas se balancearan? 6\n",
      "\n",
      "        6 elefantes se balanceaban\n",
      "        sobre la tela de una araña\n",
      "        como veian que resistia\n",
      "        fueron a llamar a otro elefante\n",
      "        \n",
      "¿Cuantos elefantes mas se balancearan? 7\n",
      "\n",
      "        7 elefantes se balanceaban\n",
      "        sobre la tela de una araña\n",
      "        como veian que resistia\n",
      "        fueron a llamar a otro elefante\n",
      "        \n",
      "¿Cuantos elefantes mas se balancearan? 8\n",
      "\n",
      "        8 elefantes se balanceaban\n",
      "        sobre la tela de una araña\n",
      "        como veian que resistia\n",
      "        fueron a llamar a otro elefante\n",
      "        \n",
      "¿Cuantos elefantes mas se balancearan? 9\n",
      "\n",
      "        9 elefantes se balanceaban\n",
      "        sobre la tela de una araña\n",
      "        como veian que resistia\n",
      "        fueron a llamar a otro elefante\n",
      "        \n",
      "¿Cuantos elefantes mas se balancearan? 10\n",
      "\n",
      "        10 elefantes se balanceaban\n",
      "        sobre la tela de una araña\n",
      "        como veian que resistia\n",
      "        fueron a llamar a otro elefante\n",
      "        \n"
     ]
    }
   ],
   "source": [
    "elefantes = 1\n",
    "total = 10\n",
    "\n",
    "print(\"\"\"\n",
    "{} elefante se balanceaba\n",
    "sobre la tela de una araña\n",
    "como veia que resistia\n",
    "fue a llamar a otro elefante\n",
    "\"\"\".format(elefantes))\n",
    "\n",
    "while elefantes < 10:\n",
    "    elefantes += 1\n",
    "    numero = int(input(\"¿Cuantos elefantes mas se balancearan? \"))\n",
    "    if numero == elefantes:\n",
    "        print(\"\"\"\n",
    "        {} elefantes se balanceaban\n",
    "        sobre la tela de una araña\n",
    "        como veian que resistia\n",
    "        fueron a llamar a otro elefante\n",
    "        \"\"\".format(elefantes))\n",
    "    else:\n",
    "        print(\"Por favor intenta de nuevo, debe ser un numero que se le sume 1\")       \n",
    "    \n",
    "    "
   ]
  },
  {
   "cell_type": "code",
   "execution_count": null,
   "metadata": {},
   "outputs": [],
   "source": []
  }
 ],
 "metadata": {
  "kernelspec": {
   "display_name": "Python 3",
   "language": "python",
   "name": "python3"
  },
  "language_info": {
   "codemirror_mode": {
    "name": "ipython",
    "version": 3
   },
   "file_extension": ".py",
   "mimetype": "text/x-python",
   "name": "python",
   "nbconvert_exporter": "python",
   "pygments_lexer": "ipython3",
   "version": "3.5.5"
  }
 },
 "nbformat": 4,
 "nbformat_minor": 4
}
