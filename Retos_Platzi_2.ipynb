{
 "cells": [
  {
   "cell_type": "markdown",
   "metadata": {},
   "source": [
    "Tomado de https://platzi.com/comunidad/retos-de-programacion-para-cualquier-lenguaje-segundo-nivel-condicionales/"
   ]
  },
  {
   "cell_type": "markdown",
   "metadata": {},
   "source": [
    "## Reto #1 - Número mayor y menor"
   ]
  },
  {
   "cell_type": "code",
   "execution_count": 4,
   "metadata": {},
   "outputs": [
    {
     "name": "stdout",
     "output_type": "stream",
     "text": [
      "Digite primer numero... 17\n",
      "Digite segundo numero... 17\n",
      "Los numeros son iguales\n"
     ]
    }
   ],
   "source": [
    "num_a = int(input(f'Digite primer numero... '))\n",
    "num_b = int(input(f'Digite segundo numero... '))\n",
    "\n",
    "if num_a > num_b:\n",
    "    print(f'{num_a} es mayor que {num_b}, y la diferencia entre estos es {num_a - num_b}')\n",
    "elif num_b > num_a:\n",
    "    print(f'{num_b} es mayor que {num_a}, y la diferencia entre estos es {num_b - num_a}')\n",
    "else:\n",
    "    print(f'Los numeros son iguales')"
   ]
  },
  {
   "cell_type": "markdown",
   "metadata": {},
   "source": [
    "## Reto #2 - En el rango, por favor."
   ]
  },
  {
   "cell_type": "code",
   "execution_count": 3,
   "metadata": {},
   "outputs": [
    {
     "name": "stdout",
     "output_type": "stream",
     "text": [
      "Digite primer numero... 8\n",
      "Digite segundo numero... 4\n",
      "El numero 4 Se encuentra dentro del rango\n"
     ]
    }
   ],
   "source": [
    "num_a = int(input(f'Digite primer numero... '))\n",
    "num_b = int(input(f'Digite segundo numero... '))\n",
    "\n",
    "if num_a > num_b:\n",
    "    print(f'El numero {num_b} Se encuentra dentro del rango')\n",
    "else:\n",
    "    print(f'El numero {num_b} excede el límite permitido')\n"
   ]
  },
  {
   "cell_type": "markdown",
   "metadata": {},
   "source": [
    "## Reto #3 - Rangos cambiantes."
   ]
  },
  {
   "cell_type": "code",
   "execution_count": 8,
   "metadata": {},
   "outputs": [
    {
     "name": "stdout",
     "output_type": "stream",
     "text": [
      "Digite Limite superior... 10\n",
      "Digite Limite inferior... 5\n",
      "Digite Comparacion... 5\n",
      "5 Es igual a Limite inferior: 5 y esta por debajo de Limite superior: 10\n"
     ]
    }
   ],
   "source": [
    "lim_sup = int(input(f'Digite Limite superior... '))\n",
    "lim_inf = int(input(f'Digite Limite inferior... '))\n",
    "compara = int(input(f'Digite Comparacion... '))\n",
    "\n",
    "if compara > lim_inf:\n",
    "    if compara < lim_sup:\n",
    "        print(f'{compara} Se encuentra dentro del rango entre Limite inferior: {lim_inf} y Limite superior: {lim_sup}')\n",
    "    elif compara == lim_sup:\n",
    "        print(f'{compara} Se encuentra por encima de Limite inferior: {lim_inf} y es igual al Limite superior: {lim_sup}')\n",
    "    else:\n",
    "        print(f'{compara} Se encuentra por encima de Limite superior: {lim_sup}')\n",
    "elif compara == lim_inf:\n",
    "    print(f'{compara} Es igual a Limite inferior: {lim_inf} y esta por debajo de Limite superior: {lim_sup}')\n",
    "else:\n",
    "    print(f'{compara} Se encuentra por debajo de Limite inferior: {lim_inf}')  \n",
    "    "
   ]
  },
  {
   "cell_type": "markdown",
   "metadata": {},
   "source": [
    "## Reto #4 - “I like turtles”"
   ]
  },
  {
   "cell_type": "code",
   "execution_count": 17,
   "metadata": {},
   "outputs": [
    {
     "name": "stdout",
     "output_type": "stream",
     "text": [
      "Ingrese su animal favorito...delfin\n",
      "Ese animal es genial, pero prefiero las tortugas!!!\n"
     ]
    }
   ],
   "source": [
    "animal = input(\"Ingrese su animal favorito...\").strip()\n",
    "\n",
    "animal = animal.capitalize()\n",
    "\n",
    "if animal == 'Tortuga':\n",
    "    print(f'También me gustan las tortugas!!!')\n",
    "else:\n",
    "    print(f'Ese animal es genial, pero prefiero las tortugas!!!')"
   ]
  },
  {
   "cell_type": "markdown",
   "metadata": {},
   "source": [
    "## Reto #5 - ¿Cómo está el clima?"
   ]
  },
  {
   "cell_type": "code",
   "execution_count": 39,
   "metadata": {},
   "outputs": [
    {
     "name": "stdout",
     "output_type": "stream",
     "text": [
      "Esta lloviendo...? no\n",
      "Esta haciendo un excelente dia\n"
     ]
    }
   ],
   "source": [
    "rain = input(f'Esta lloviendo...? ').strip()\n",
    "rain = rain.lower()\n",
    "\n",
    "if rain == 'si':\n",
    "    wind = input(f'Y esta haciendo mucho viento...? ').strip()\n",
    "    wind = wind.lower()\n",
    "    if wind == 'si':\n",
    "        print(f'Hace mucho viento para salir con una sombrilla')\n",
    "    else:\n",
    "        print(f'Deberias llevar sombrilla')\n",
    "else:\n",
    "    print(f'Esta haciendo un excelente dia')  "
   ]
  },
  {
   "cell_type": "markdown",
   "metadata": {},
   "source": [
    "## Reto #6 - Edad permitida"
   ]
  },
  {
   "cell_type": "code",
   "execution_count": 43,
   "metadata": {},
   "outputs": [
    {
     "name": "stdout",
     "output_type": "stream",
     "text": [
      "Ingrese su edad... 30\n",
      "Nunca es tarde para aprender ¿Qué curso tomaremos?\n"
     ]
    }
   ],
   "source": [
    "edad = int(input(f'Ingrese su edad... '))\n",
    "\n",
    "if edad < 18:\n",
    "    print(f'¿Sabes hacia dónde dirigir tu futuro? Seguro puedo ayudarte.')\n",
    "elif edad >= 18 and edad < 30:\n",
    "    print(f'Es un momento excelente para impulsar tu carrera.')\n",
    "else:\n",
    "    print(f'Nunca es tarde para aprender ¿Qué curso tomaremos?')\n",
    "    "
   ]
  },
  {
   "cell_type": "markdown",
   "metadata": {},
   "source": [
    "## Reto #7 - Mensajes opcionales"
   ]
  },
  {
   "cell_type": "code",
   "execution_count": 45,
   "metadata": {},
   "outputs": [
    {
     "name": "stdout",
     "output_type": "stream",
     "text": [
      "Ingrese un numero del 1 al 6... 2\n",
      "¿Qué tal tomar un curso de marketing digital?\n"
     ]
    }
   ],
   "source": [
    "numero = int(input(f'Ingrese un numero del 1 al 6... '))\n",
    "\n",
    "if numero == 1:\n",
    "    print(f'Hoy aprenderemos sobre programacion')\n",
    "elif numero == 2:\n",
    "    print(f'¿Qué tal tomar un curso de marketing digital?')\n",
    "elif numero == 3:\n",
    "    print(f'Hoy es un gran día para comenzar a aprender de diseño')\n",
    "elif numero == 4:\n",
    "    print(f'¿Y si aprendemos algo de negocios online?')\n",
    "elif numero == 5:\n",
    "    print(f'Veamos un par de clases sobre producción audiovisual')\n",
    "elif numero == 6:\n",
    "    print(f'Tal vez sea bueno desarrollar una habilidad blanda en Platzi')\n",
    "else:\n",
    "    prinf(f'Opcion no valida. Por favor ingrese un numero dentro del rango valido')"
   ]
  },
  {
   "cell_type": "code",
   "execution_count": null,
   "metadata": {},
   "outputs": [],
   "source": []
  }
 ],
 "metadata": {
  "kernelspec": {
   "display_name": "Python 3",
   "language": "python",
   "name": "python3"
  },
  "language_info": {
   "codemirror_mode": {
    "name": "ipython",
    "version": 3
   },
   "file_extension": ".py",
   "mimetype": "text/x-python",
   "name": "python",
   "nbconvert_exporter": "python",
   "pygments_lexer": "ipython3",
   "version": "3.7.6"
  }
 },
 "nbformat": 4,
 "nbformat_minor": 4
}
