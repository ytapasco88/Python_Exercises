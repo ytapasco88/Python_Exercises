{
  "nbformat": 4,
  "nbformat_minor": 0,
  "metadata": {
    "kernelspec": {
      "display_name": "Python 3",
      "language": "python",
      "name": "python3"
    },
    "language_info": {
      "codemirror_mode": {
        "name": "ipython",
        "version": 3
      },
      "file_extension": ".py",
      "mimetype": "text/x-python",
      "name": "python",
      "nbconvert_exporter": "python",
      "pygments_lexer": "ipython3",
      "version": "3.7.6"
    },
    "colab": {
      "name": "Retos_Platzi_2.ipynb",
      "provenance": []
    }
  },
  "cells": [
    {
      "cell_type": "markdown",
      "metadata": {
        "id": "2LvXvvXymoxL",
        "colab_type": "text"
      },
      "source": [
        "Tomado de https://platzi.com/comunidad/retos-de-programacion-para-cualquier-lenguaje-segundo-nivel-condicionales/"
      ]
    },
    {
      "cell_type": "markdown",
      "metadata": {
        "id": "mH-AmeWSmoxP",
        "colab_type": "text"
      },
      "source": [
        "## Reto #1 - Número mayor y menor"
      ]
    },
    {
      "cell_type": "code",
      "metadata": {
        "id": "PGiPyrFXmoxS",
        "colab_type": "code",
        "colab": {},
        "outputId": "66559c07-8d57-4bf0-baf9-cd8da5f28d89"
      },
      "source": [
        "num_a = int(input(f'Digite primer numero... '))\n",
        "num_b = int(input(f'Digite segundo numero... '))\n",
        "\n",
        "if num_a > num_b:\n",
        "    print(f'{num_a} es mayor que {num_b}, y la diferencia entre estos es {num_a - num_b}')\n",
        "elif num_b > num_a:\n",
        "    print(f'{num_b} es mayor que {num_a}, y la diferencia entre estos es {num_b - num_a}')\n",
        "else:\n",
        "    print(f'Los numeros son iguales')"
      ],
      "execution_count": 0,
      "outputs": [
        {
          "output_type": "stream",
          "text": [
            "Digite primer numero... 17\n",
            "Digite segundo numero... 17\n",
            "Los numeros son iguales\n"
          ],
          "name": "stdout"
        }
      ]
    },
    {
      "cell_type": "markdown",
      "metadata": {
        "id": "WtEbZus5moxg",
        "colab_type": "text"
      },
      "source": [
        "## Reto #2 - En el rango, por favor."
      ]
    },
    {
      "cell_type": "code",
      "metadata": {
        "id": "4L46Qfwqmoxi",
        "colab_type": "code",
        "colab": {},
        "outputId": "42ee2ddc-a9e2-4b71-9a6f-bcf41bbc73bb"
      },
      "source": [
        "num_a = int(input(f'Digite primer numero... '))\n",
        "num_b = int(input(f'Digite segundo numero... '))\n",
        "\n",
        "if num_a > num_b:\n",
        "    print(f'El numero {num_b} Se encuentra dentro del rango')\n",
        "else:\n",
        "    print(f'El numero {num_b} excede el límite permitido')\n"
      ],
      "execution_count": 0,
      "outputs": [
        {
          "output_type": "stream",
          "text": [
            "Digite primer numero... 8\n",
            "Digite segundo numero... 4\n",
            "El numero 4 Se encuentra dentro del rango\n"
          ],
          "name": "stdout"
        }
      ]
    },
    {
      "cell_type": "markdown",
      "metadata": {
        "id": "2ycnyuEFmoxm",
        "colab_type": "text"
      },
      "source": [
        "## Reto #3 - Rangos cambiantes."
      ]
    },
    {
      "cell_type": "code",
      "metadata": {
        "id": "wE-7HsfXmoxn",
        "colab_type": "code",
        "colab": {},
        "outputId": "2691d76e-9647-4116-e09d-9d3d094b837e"
      },
      "source": [
        "lim_sup = int(input(f'Digite Limite superior... '))\n",
        "lim_inf = int(input(f'Digite Limite inferior... '))\n",
        "compara = int(input(f'Digite Comparacion... '))\n",
        "\n",
        "if compara > lim_inf:\n",
        "    if compara < lim_sup:\n",
        "        print(f'{compara} Se encuentra dentro del rango entre Limite inferior: {lim_inf} y Limite superior: {lim_sup}')\n",
        "    elif compara == lim_sup:\n",
        "        print(f'{compara} Se encuentra por encima de Limite inferior: {lim_inf} y es igual al Limite superior: {lim_sup}')\n",
        "    else:\n",
        "        print(f'{compara} Se encuentra por encima de Limite superior: {lim_sup}')\n",
        "elif compara == lim_inf:\n",
        "    print(f'{compara} Es igual a Limite inferior: {lim_inf} y esta por debajo de Limite superior: {lim_sup}')\n",
        "else:\n",
        "    print(f'{compara} Se encuentra por debajo de Limite inferior: {lim_inf}')  \n",
        "    "
      ],
      "execution_count": 0,
      "outputs": [
        {
          "output_type": "stream",
          "text": [
            "Digite Limite superior... 10\n",
            "Digite Limite inferior... 5\n",
            "Digite Comparacion... 5\n",
            "5 Es igual a Limite inferior: 5 y esta por debajo de Limite superior: 10\n"
          ],
          "name": "stdout"
        }
      ]
    },
    {
      "cell_type": "markdown",
      "metadata": {
        "id": "F2dSTyMhmoxr",
        "colab_type": "text"
      },
      "source": [
        "## Reto #4 - “I like turtles”"
      ]
    },
    {
      "cell_type": "code",
      "metadata": {
        "id": "fSbkcJRqmoxs",
        "colab_type": "code",
        "colab": {},
        "outputId": "93b6975e-966e-45f8-aaf1-a91217dc7264"
      },
      "source": [
        "animal = input(\"Ingrese su animal favorito...\").strip()\n",
        "\n",
        "animal = animal.capitalize()\n",
        "\n",
        "if animal == 'Tortuga':\n",
        "    print(f'También me gustan las tortugas!!!')\n",
        "else:\n",
        "    print(f'Ese animal es genial, pero prefiero las tortugas!!!')"
      ],
      "execution_count": 0,
      "outputs": [
        {
          "output_type": "stream",
          "text": [
            "Ingrese su animal favorito...delfin\n",
            "Ese animal es genial, pero prefiero las tortugas!!!\n"
          ],
          "name": "stdout"
        }
      ]
    },
    {
      "cell_type": "markdown",
      "metadata": {
        "id": "k3HPUK86moxw",
        "colab_type": "text"
      },
      "source": [
        "## Reto #5 - ¿Cómo está el clima?"
      ]
    },
    {
      "cell_type": "code",
      "metadata": {
        "id": "8MFh0moOmoxx",
        "colab_type": "code",
        "colab": {},
        "outputId": "4c8c5652-b1e9-43e1-dc8a-4bac4c6c2eed"
      },
      "source": [
        "rain = input(f'Esta lloviendo...? ').strip()\n",
        "rain = rain.lower()\n",
        "\n",
        "if rain == 'si':\n",
        "    wind = input(f'Y esta haciendo mucho viento...? ').strip()\n",
        "    wind = wind.lower()\n",
        "    if wind == 'si':\n",
        "        print(f'Hace mucho viento para salir con una sombrilla')\n",
        "    else:\n",
        "        print(f'Deberias llevar sombrilla')\n",
        "else:\n",
        "    print(f'Esta haciendo un excelente dia')  "
      ],
      "execution_count": 0,
      "outputs": [
        {
          "output_type": "stream",
          "text": [
            "Esta lloviendo...? no\n",
            "Esta haciendo un excelente dia\n"
          ],
          "name": "stdout"
        }
      ]
    },
    {
      "cell_type": "markdown",
      "metadata": {
        "id": "GeluipE0mox1",
        "colab_type": "text"
      },
      "source": [
        "## Reto #6 - Edad permitida"
      ]
    },
    {
      "cell_type": "code",
      "metadata": {
        "id": "oe3u-iSpmox1",
        "colab_type": "code",
        "colab": {},
        "outputId": "0b9e1ef5-e83f-42c3-a27f-919e1a654490"
      },
      "source": [
        "edad = int(input(f'Ingrese su edad... '))\n",
        "\n",
        "if edad < 18:\n",
        "    print(f'¿Sabes hacia dónde dirigir tu futuro? Seguro puedo ayudarte.')\n",
        "elif edad >= 18 and edad < 30:\n",
        "    print(f'Es un momento excelente para impulsar tu carrera.')\n",
        "else:\n",
        "    print(f'Nunca es tarde para aprender ¿Qué curso tomaremos?')\n",
        "    "
      ],
      "execution_count": 0,
      "outputs": [
        {
          "output_type": "stream",
          "text": [
            "Ingrese su edad... 30\n",
            "Nunca es tarde para aprender ¿Qué curso tomaremos?\n"
          ],
          "name": "stdout"
        }
      ]
    },
    {
      "cell_type": "markdown",
      "metadata": {
        "id": "s9JWDRVlmox6",
        "colab_type": "text"
      },
      "source": [
        "## Reto #7 - Mensajes opcionales"
      ]
    },
    {
      "cell_type": "code",
      "metadata": {
        "id": "_qLu43wymox7",
        "colab_type": "code",
        "colab": {},
        "outputId": "b2a7092a-d362-4a51-9d9f-5a962249ec25"
      },
      "source": [
        "numero = int(input(f'Ingrese un numero del 1 al 6... '))\n",
        "\n",
        "if numero == 1:\n",
        "    print(f'Hoy aprenderemos sobre programacion')\n",
        "elif numero == 2:\n",
        "    print(f'¿Qué tal tomar un curso de marketing digital?')\n",
        "elif numero == 3:\n",
        "    print(f'Hoy es un gran día para comenzar a aprender de diseño')\n",
        "elif numero == 4:\n",
        "    print(f'¿Y si aprendemos algo de negocios online?')\n",
        "elif numero == 5:\n",
        "    print(f'Veamos un par de clases sobre producción audiovisual')\n",
        "elif numero == 6:\n",
        "    print(f'Tal vez sea bueno desarrollar una habilidad blanda en Platzi')\n",
        "else:\n",
        "    prinf(f'Opcion no valida. Por favor ingrese un numero dentro del rango valido')"
      ],
      "execution_count": 0,
      "outputs": [
        {
          "output_type": "stream",
          "text": [
            "Ingrese un numero del 1 al 6... 2\n",
            "¿Qué tal tomar un curso de marketing digital?\n"
          ],
          "name": "stdout"
        }
      ]
    },
    {
      "cell_type": "code",
      "metadata": {
        "id": "8Is0LA_emox_",
        "colab_type": "code",
        "colab": {}
      },
      "source": [
        ""
      ],
      "execution_count": 0,
      "outputs": []
    }
  ]
}