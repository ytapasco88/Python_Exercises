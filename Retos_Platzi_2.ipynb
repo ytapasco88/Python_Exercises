{
  "nbformat": 4,
  "nbformat_minor": 0,
  "metadata": {
    "kernelspec": {
      "display_name": "Python 3",
      "language": "python",
      "name": "python3"
    },
    "language_info": {
      "codemirror_mode": {
        "name": "ipython",
        "version": 3
      },
      "file_extension": ".py",
      "mimetype": "text/x-python",
      "name": "python",
      "nbconvert_exporter": "python",
      "pygments_lexer": "ipython3",
      "version": "3.7.6"
    },
    "colab": {
      "name": "Retos_Platzi_2.ipynb",
      "provenance": [],
      "include_colab_link": true
    }
  },
  "cells": [
    {
      "cell_type": "markdown",
      "metadata": {
        "id": "view-in-github",
        "colab_type": "text"
      },
      "source": [
        "<a href=\"https://colab.research.google.com/github/ytapasco88/Python_Exercises/blob/master/Retos_Platzi_2.ipynb\" target=\"_parent\"><img src=\"https://colab.research.google.com/assets/colab-badge.svg\" alt=\"Open In Colab\"/></a>"
      ]
    },
    {
      "cell_type": "markdown",
      "metadata": {
        "id": "WM3zsQ56lK2M",
        "colab_type": "text"
      },
      "source": [
        "Tomado de https://platzi.com/comunidad/retos-de-programacion-para-cualquier-lenguaje-segundo-nivel-condicionales/"
      ]
    },
    {
      "cell_type": "markdown",
      "metadata": {
        "id": "B8q7ZEs6lK2P",
        "colab_type": "text"
      },
      "source": [
        "## Reto #1 - Número mayor y menor"
      ]
    },
    {
      "cell_type": "code",
      "metadata": {
        "id": "c9cLiozxlK2R",
        "colab_type": "code",
        "colab": {},
        "outputId": "eb170aa7-566a-4e27-d972-908ee252e32a"
      },
      "source": [
        "num_a = int(input(f'Digite primer numero... '))\n",
        "num_b = int(input(f'Digite segundo numero... '))\n",
        "\n",
        "if num_a > num_b:\n",
        "    print(f'{num_a} es mayor que {num_b}, y la diferencia entre estos es {num_a - num_b}')\n",
        "elif num_b > num_a:\n",
        "    print(f'{num_b} es mayor que {num_a}, y la diferencia entre estos es {num_b - num_a}')\n",
        "else:\n",
        "    print(f'Los numeros son iguales')"
      ],
      "execution_count": 0,
      "outputs": [
        {
          "output_type": "stream",
          "text": [
            "Digite primer numero... 17\n",
            "Digite segundo numero... 17\n",
            "Los numeros son iguales\n"
          ],
          "name": "stdout"
        }
      ]
    },
    {
      "cell_type": "markdown",
      "metadata": {
        "id": "zNMKbqahlK2Z",
        "colab_type": "text"
      },
      "source": [
        "## Reto #2 - En el rango, por favor."
      ]
    },
    {
      "cell_type": "code",
      "metadata": {
        "id": "oLNhRhtplK2a",
        "colab_type": "code",
        "colab": {},
        "outputId": "ccd62880-c688-45fe-bd79-3f73507df5dd"
      },
      "source": [
        "num_a = int(input(f'Digite primer numero... '))\n",
        "num_b = int(input(f'Digite segundo numero... '))\n",
        "\n",
        "if num_a > num_b:\n",
        "    print(f'El numero {num_b} Se encuentra dentro del rango')\n",
        "else:\n",
        "    print(f'El numero {num_b} excede el límite permitido')\n"
      ],
      "execution_count": 0,
      "outputs": [
        {
          "output_type": "stream",
          "text": [
            "Digite primer numero... 8\n",
            "Digite segundo numero... 4\n",
            "El numero 4 Se encuentra dentro del rango\n"
          ],
          "name": "stdout"
        }
      ]
    },
    {
      "cell_type": "markdown",
      "metadata": {
        "id": "bfDqMGEglK2e",
        "colab_type": "text"
      },
      "source": [
        "## Reto #3 - Rangos cambiantes."
      ]
    },
    {
      "cell_type": "code",
      "metadata": {
        "id": "k1yb5wEVlK2f",
        "colab_type": "code",
        "colab": {},
        "outputId": "1fcdd442-514d-404f-fdef-a3f0bcf4e26b"
      },
      "source": [
        "lim_sup = int(input(f'Digite Limite superior... '))\n",
        "lim_inf = int(input(f'Digite Limite inferior... '))\n",
        "compara = int(input(f'Digite Comparacion... '))\n",
        "\n",
        "if compara > lim_inf:\n",
        "    if compara < lim_sup:\n",
        "        print(f'{compara} Se encuentra dentro del rango entre Limite inferior: {lim_inf} y Limite superior: {lim_sup}')\n",
        "    elif compara == lim_sup:\n",
        "        print(f'{compara} Se encuentra por encima de Limite inferior: {lim_inf} y es igual al Limite superior: {lim_sup}')\n",
        "    else:\n",
        "        print(f'{compara} Se encuentra por encima de Limite superior: {lim_sup}')\n",
        "elif compara == lim_inf:\n",
        "    print(f'{compara} Es igual a Limite inferior: {lim_inf} y esta por debajo de Limite superior: {lim_sup}')\n",
        "else:\n",
        "    print(f'{compara} Se encuentra por debajo de Limite inferior: {lim_inf}')  \n",
        "    "
      ],
      "execution_count": 0,
      "outputs": [
        {
          "output_type": "stream",
          "text": [
            "Digite Limite superior... 10\n",
            "Digite Limite inferior... 5\n",
            "Digite Comparacion... 5\n",
            "5 Es igual a Limite inferior: 5 y esta por debajo de Limite superior: 10\n"
          ],
          "name": "stdout"
        }
      ]
    },
    {
      "cell_type": "markdown",
      "metadata": {
        "id": "XcboPS-dlK2k",
        "colab_type": "text"
      },
      "source": [
        "## Reto #4 - “I like turtles”"
      ]
    },
    {
      "cell_type": "code",
      "metadata": {
        "id": "Cbr4wzwalK2l",
        "colab_type": "code",
        "colab": {},
        "outputId": "cbb1af7b-5706-42e8-db8c-21202165af34"
      },
      "source": [
        "animal = input(\"Ingrese su animal favorito...\").strip()\n",
        "\n",
        "animal = animal.capitalize()\n",
        "\n",
        "if animal == 'Tortuga':\n",
        "    print(f'También me gustan las tortugas!!!')\n",
        "else:\n",
        "    print(f'Ese animal es genial, pero prefiero las tortugas!!!')"
      ],
      "execution_count": 0,
      "outputs": [
        {
          "output_type": "stream",
          "text": [
            "Ingrese su animal favorito...delfin\n",
            "Ese animal es genial, pero prefiero las tortugas!!!\n"
          ],
          "name": "stdout"
        }
      ]
    },
    {
      "cell_type": "markdown",
      "metadata": {
        "id": "DcM7pWRnlK2p",
        "colab_type": "text"
      },
      "source": [
        "## Reto #5 - ¿Cómo está el clima?"
      ]
    },
    {
      "cell_type": "code",
      "metadata": {
        "id": "3F3C9s9plK2q",
        "colab_type": "code",
        "colab": {},
        "outputId": "59db7ceb-b05d-435a-e9ee-c335e8ac35bb"
      },
      "source": [
        "rain = input(f'Esta lloviendo...? ').strip()\n",
        "rain = rain.lower()\n",
        "\n",
        "if rain == 'si':\n",
        "    wind = input(f'Y esta haciendo mucho viento...? ').strip()\n",
        "    wind = wind.lower()\n",
        "    if wind == 'si':\n",
        "        print(f'Hace mucho viento para salir con una sombrilla')\n",
        "    else:\n",
        "        print(f'Deberias llevar sombrilla')\n",
        "else:\n",
        "    print(f'Esta haciendo un excelente dia')  "
      ],
      "execution_count": 0,
      "outputs": [
        {
          "output_type": "stream",
          "text": [
            "Esta lloviendo...? no\n",
            "Esta haciendo un excelente dia\n"
          ],
          "name": "stdout"
        }
      ]
    },
    {
      "cell_type": "markdown",
      "metadata": {
        "id": "reH6u-pYlK2t",
        "colab_type": "text"
      },
      "source": [
        "## Reto #6 - Edad permitida"
      ]
    },
    {
      "cell_type": "code",
      "metadata": {
        "id": "Kabz2QfQlK2u",
        "colab_type": "code",
        "colab": {},
        "outputId": "6c1146b4-945c-46b5-b756-71934c44da46"
      },
      "source": [
        "edad = int(input(f'Ingrese su edad... '))\n",
        "\n",
        "if edad < 18:\n",
        "    print(f'¿Sabes hacia dónde dirigir tu futuro? Seguro puedo ayudarte.')\n",
        "elif edad >= 18 and edad < 30:\n",
        "    print(f'Es un momento excelente para impulsar tu carrera.')\n",
        "else:\n",
        "    print(f'Nunca es tarde para aprender ¿Qué curso tomaremos?')\n",
        "    "
      ],
      "execution_count": 0,
      "outputs": [
        {
          "output_type": "stream",
          "text": [
            "Ingrese su edad... 30\n",
            "Nunca es tarde para aprender ¿Qué curso tomaremos?\n"
          ],
          "name": "stdout"
        }
      ]
    },
    {
      "cell_type": "markdown",
      "metadata": {
        "id": "GvGiLbTQlK22",
        "colab_type": "text"
      },
      "source": [
        "## Reto #7 - Mensajes opcionales"
      ]
    },
    {
      "cell_type": "code",
      "metadata": {
        "id": "pk-wTweulK22",
        "colab_type": "code",
        "colab": {},
        "outputId": "61efc748-39b4-43b1-9fc0-3a0465e53cd0"
      },
      "source": [
        "numero = int(input(f'Ingrese un numero del 1 al 6... '))\n",
        "\n",
        "if numero == 1:\n",
        "    print(f'Hoy aprenderemos sobre programacion')\n",
        "elif numero == 2:\n",
        "    print(f'¿Qué tal tomar un curso de marketing digital?')\n",
        "elif numero == 3:\n",
        "    print(f'Hoy es un gran día para comenzar a aprender de diseño')\n",
        "elif numero == 4:\n",
        "    print(f'¿Y si aprendemos algo de negocios online?')\n",
        "elif numero == 5:\n",
        "    print(f'Veamos un par de clases sobre producción audiovisual')\n",
        "elif numero == 6:\n",
        "    print(f'Tal vez sea bueno desarrollar una habilidad blanda en Platzi')\n",
        "else:\n",
        "    prinf(f'Opcion no valida. Por favor ingrese un numero dentro del rango valido')"
      ],
      "execution_count": 0,
      "outputs": [
        {
          "output_type": "stream",
          "text": [
            "Ingrese un numero del 1 al 6... 2\n",
            "¿Qué tal tomar un curso de marketing digital?\n"
          ],
          "name": "stdout"
        }
      ]
    },
    {
      "cell_type": "code",
      "metadata": {
        "id": "pMtHn6J_lK26",
        "colab_type": "code",
        "colab": {}
      },
      "source": [
        ""
      ],
      "execution_count": 0,
      "outputs": []
    }
  ]
}