{
 "cells": [
  {
   "cell_type": "markdown",
   "metadata": {},
   "source": [
    "Tomado de https://platzi.com/comunidad/retos-de-programacion-para-cualquier-lenguaje-tercer-nivel-strings/"
   ]
  },
  {
   "cell_type": "markdown",
   "metadata": {},
   "source": [
    "## Reto #1 Longitud del string"
   ]
  },
  {
   "cell_type": "code",
   "execution_count": 8,
   "metadata": {},
   "outputs": [
    {
     "name": "stdout",
     "output_type": "stream",
     "text": [
      "Ingrese su curso favorito de Platzi... Curso de Python\n",
      "Curso de Python tiene 15 caracteres\n"
     ]
    }
   ],
   "source": [
    "curso = input(\"Ingrese su curso favorito de Platzi... \").strip()\n",
    "print(f'{curso} tiene {len(curso)} caracteres')"
   ]
  },
  {
   "cell_type": "markdown",
   "metadata": {},
   "source": [
    "## Reto #2 ‘Suma’ de strings"
   ]
  },
  {
   "cell_type": "code",
   "execution_count": 9,
   "metadata": {},
   "outputs": [
    {
     "name": "stdout",
     "output_type": "stream",
     "text": [
      "¿Cual es tu nombre...? Juan Andres\n",
      "¿Cual es tu apellido...? Tapasco Gordillo\n",
      "¿Cual es tu comida favorita...? Pasta\n",
      "Hola, mi nombres es Juan Andres Tapasco Gordillo y mi comida favorita es Pasta\n"
     ]
    }
   ],
   "source": [
    "nombre = input(f'¿Cual es tu nombre...? ')\n",
    "apellido = input(f'¿Cual es tu apellido...? ')\n",
    "comida = input(f'¿Cual es tu comida favorita...? ')\n",
    "print(f'Hola, mi nombres es {nombre} {apellido} y mi comida favorita es {comida}')"
   ]
  },
  {
   "cell_type": "markdown",
   "metadata": {},
   "source": [
    "## Reto #3 Ajusta las iniciales"
   ]
  },
  {
   "cell_type": "code",
   "execution_count": 13,
   "metadata": {},
   "outputs": [
    {
     "name": "stdout",
     "output_type": "stream",
     "text": [
      "Digita tu nombre en minusculas... juan\n",
      "Digita tu apellido en minusculas... tapasco\n",
      "¿Digita tu pais de origen en minusculas...? colombia\n",
      " \n",
      "Nombre:\t\t Juan\n",
      "Apellido\t Tapasco\n",
      "Pais de Origen:\t Colombia\n",
      "\n"
     ]
    }
   ],
   "source": [
    "nombre = input(f'Digita tu nombre en minusculas... ')\n",
    "apellido = input(f'Digita tu apellido en minusculas... ')\n",
    "pais = input(f'¿Digita tu pais de origen en minusculas...? ')\n",
    "print(f''' \n",
    "Nombre:\\t\\t {nombre.capitalize()}\n",
    "Apellido\\t {apellido.capitalize()}\n",
    "Pais de Origen:\\t {pais.capitalize()}\n",
    "''')"
   ]
  },
  {
   "cell_type": "markdown",
   "metadata": {},
   "source": [
    "## Reto #4 String fragmentado"
   ]
  },
  {
   "cell_type": "code",
   "execution_count": 23,
   "metadata": {},
   "outputs": [
    {
     "name": "stdout",
     "output_type": "stream",
     "text": [
      "Indica una oracion de mas de 10 caracteres (puede ser una linea de un poema o una cancion)... \n",
      " I tried so hard And got so far But in the end It doesn't even matter\n",
      "Ingresa un numero de rango inicial entre 0 y 68 (Cantidad de caracteres de la cancion) 12\n",
      "Ahora ingresa un numero como rango final entre 12 y 68 68\n",
      "ard And got so far But in the end It doesn't even matter\n"
     ]
    }
   ],
   "source": [
    "oracion = input(\"Indica una oracion de mas de 10 caracteres (puede ser una linea de un poema o una cancion)... \\n \").strip()\n",
    "largo = len(oracion)\n",
    "inicial = int(input(f'Ingresa un numero de rango inicial entre 0 y {largo} (Cantidad de caracteres de la cancion) '))\n",
    "final = int(input(f'Ahora ingresa un numero como rango final entre {inicial} y {largo} '))\n",
    "\n",
    "if inicial < largo and final <= largo:\n",
    "    print(oracion[inicial:final])\n",
    "else:\n",
    "    print(f'Los valores {inicial} y {final} estan por fuera del valor maximo permitido')"
   ]
  },
  {
   "cell_type": "markdown",
   "metadata": {},
   "source": [
    "## Reto #5 Mayúsculas y minúsculas"
   ]
  },
  {
   "cell_type": "code",
   "execution_count": 29,
   "metadata": {},
   "outputs": [
    {
     "name": "stdout",
     "output_type": "stream",
     "text": [
      "Ingrese primer palabra en minuscula...juan\n",
      "Ingrese segunda palabra en mayuscula...ANDRES\n",
      "\n",
      "juan:\t JUAN \n",
      "ANDRES:\t andres\n",
      "\n"
     ]
    }
   ],
   "source": [
    "a = input(\"Ingrese primer palabra en minuscula...\")\n",
    "b = input(\"Ingrese segunda palabra en mayuscula...\")\n",
    "\n",
    "print(f'''\n",
    "{a}:\\t {a.upper()} \n",
    "{b}:\\t {b.lower()}\n",
    "''')"
   ]
  },
  {
   "cell_type": "markdown",
   "metadata": {},
   "source": [
    "## Reto #6 Nombres cortos y largos"
   ]
  },
  {
   "cell_type": "code",
   "execution_count": 31,
   "metadata": {},
   "outputs": [
    {
     "name": "stdout",
     "output_type": "stream",
     "text": [
      "Ingrese su nombre... juan\n",
      "Ingrese su apellido... tapasco\n",
      "Hola Juan Tapasco\n"
     ]
    }
   ],
   "source": [
    "nombre = input(\"Ingrese su nombre... \")\n",
    "if len(nombre) > 5:\n",
    "    print(f'Hola {nombre.capitalize()}')\n",
    "else:\n",
    "    apellido = input(\"Ingrese su apellido... \")\n",
    "    print(f'Hola {nombre.capitalize()} {apellido.capitalize()}')"
   ]
  },
  {
   "cell_type": "markdown",
   "metadata": {},
   "source": [
    "## Reto #7 ¡Hablemos Pig Latin! (Puerco Latino"
   ]
  },
  {
   "cell_type": "code",
   "execution_count": 73,
   "metadata": {},
   "outputs": [
    {
     "name": "stdout",
     "output_type": "stream",
     "text": [
      "Ingresa una palabra... Platzi\n",
      "latziPay\n"
     ]
    }
   ],
   "source": [
    "palabra = input(f'Ingresa una palabra... ')\n",
    "\n",
    "if palabra[0] in \"aeiouAEIOU\":\n",
    "    print(f'{palabra}way')\n",
    "else:\n",
    "    print(f'{palabra[1:len(a)]}{palabra[0]}ay')   "
   ]
  },
  {
   "cell_type": "code",
   "execution_count": null,
   "metadata": {},
   "outputs": [],
   "source": []
  }
 ],
 "metadata": {
  "kernelspec": {
   "display_name": "Python 3",
   "language": "python",
   "name": "python3"
  },
  "language_info": {
   "codemirror_mode": {
    "name": "ipython",
    "version": 3
   },
   "file_extension": ".py",
   "mimetype": "text/x-python",
   "name": "python",
   "nbconvert_exporter": "python",
   "pygments_lexer": "ipython3",
   "version": "3.7.6"
  }
 },
 "nbformat": 4,
 "nbformat_minor": 4
}
